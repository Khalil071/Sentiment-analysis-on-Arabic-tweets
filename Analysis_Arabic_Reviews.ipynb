{
 "cells": [
  {
   "cell_type": "code",
   "execution_count": 1,
   "id": "13601a1c-08f2-4f18-a4f9-8e6c42e53605",
   "metadata": {},
   "outputs": [
    {
     "data": {
      "text/html": [
       "<div>\n",
       "<style scoped>\n",
       "    .dataframe tbody tr th:only-of-type {\n",
       "        vertical-align: middle;\n",
       "    }\n",
       "\n",
       "    .dataframe tbody tr th {\n",
       "        vertical-align: top;\n",
       "    }\n",
       "\n",
       "    .dataframe thead th {\n",
       "        text-align: right;\n",
       "    }\n",
       "</style>\n",
       "<table border=\"1\" class=\"dataframe\">\n",
       "  <thead>\n",
       "    <tr style=\"text-align: right;\">\n",
       "      <th></th>\n",
       "      <th>reviews</th>\n",
       "    </tr>\n",
       "  </thead>\n",
       "  <tbody>\n",
       "    <tr>\n",
       "      <th>0</th>\n",
       "      <td>رائع</td>\n",
       "    </tr>\n",
       "    <tr>\n",
       "      <th>1</th>\n",
       "      <td>برنامج رائع جدا يساعد على تلبيه الاحتياجات بشك...</td>\n",
       "    </tr>\n",
       "    <tr>\n",
       "      <th>2</th>\n",
       "      <td>التطبيق لا يغتح دائما بيعطيني لا يوجد اتصال با...</td>\n",
       "    </tr>\n",
       "    <tr>\n",
       "      <th>3</th>\n",
       "      <td>لماذا لا يمكننا طلب من ماكدونالدز؟</td>\n",
       "    </tr>\n",
       "    <tr>\n",
       "      <th>4</th>\n",
       "      <td>البرنامج بيظهر كل المطاعم و مغلقه مع انها بتكو...</td>\n",
       "    </tr>\n",
       "  </tbody>\n",
       "</table>\n",
       "</div>"
      ],
      "text/plain": [
       "                                             reviews\n",
       "0                                               رائع\n",
       "1  برنامج رائع جدا يساعد على تلبيه الاحتياجات بشك...\n",
       "2  التطبيق لا يغتح دائما بيعطيني لا يوجد اتصال با...\n",
       "3                 لماذا لا يمكننا طلب من ماكدونالدز؟\n",
       "4  البرنامج بيظهر كل المطاعم و مغلقه مع انها بتكو..."
      ]
     },
     "execution_count": 1,
     "metadata": {},
     "output_type": "execute_result"
    }
   ],
   "source": [
    "import pandas as pd\n",
    "\n",
    "reviews = pd.read_csv('Arabic_Reviews.csv', encoding= 'utf-8')\n",
    "\n",
    "reviews.head()"
   ]
  },
  {
   "cell_type": "code",
   "execution_count": 2,
   "id": "af52356d-7e8a-48a7-8e7f-1ce6224b6ac4",
   "metadata": {},
   "outputs": [
    {
     "data": {
      "text/html": [
       "<div>\n",
       "<style scoped>\n",
       "    .dataframe tbody tr th:only-of-type {\n",
       "        vertical-align: middle;\n",
       "    }\n",
       "\n",
       "    .dataframe tbody tr th {\n",
       "        vertical-align: top;\n",
       "    }\n",
       "\n",
       "    .dataframe thead th {\n",
       "        text-align: right;\n",
       "    }\n",
       "</style>\n",
       "<table border=\"1\" class=\"dataframe\">\n",
       "  <thead>\n",
       "    <tr style=\"text-align: right;\">\n",
       "      <th></th>\n",
       "      <th>score</th>\n",
       "      <th>word</th>\n",
       "    </tr>\n",
       "  </thead>\n",
       "  <tbody>\n",
       "    <tr>\n",
       "      <th>0</th>\n",
       "      <td>3</td>\n",
       "      <td>ممتاز</td>\n",
       "    </tr>\n",
       "    <tr>\n",
       "      <th>1</th>\n",
       "      <td>3</td>\n",
       "      <td>رائع</td>\n",
       "    </tr>\n",
       "    <tr>\n",
       "      <th>2</th>\n",
       "      <td>3</td>\n",
       "      <td>مبهر</td>\n",
       "    </tr>\n",
       "    <tr>\n",
       "      <th>3</th>\n",
       "      <td>3</td>\n",
       "      <td>جميل</td>\n",
       "    </tr>\n",
       "    <tr>\n",
       "      <th>4</th>\n",
       "      <td>3</td>\n",
       "      <td>ساحر</td>\n",
       "    </tr>\n",
       "  </tbody>\n",
       "</table>\n",
       "</div>"
      ],
      "text/plain": [
       "   score   word\n",
       "0      3  ممتاز\n",
       "1      3   رائع\n",
       "2      3   مبهر\n",
       "3      3   جميل\n",
       "4      3   ساحر"
      ]
     },
     "execution_count": 2,
     "metadata": {},
     "output_type": "execute_result"
    }
   ],
   "source": [
    "positive = pd.read_csv('positive.csv', encoding = 'utf-8')\n",
    "positive.head()"
   ]
  },
  {
   "cell_type": "code",
   "execution_count": 3,
   "id": "5e4d6c1a-8ed5-4563-817b-affd7da96b89",
   "metadata": {},
   "outputs": [
    {
     "data": {
      "text/html": [
       "<div>\n",
       "<style scoped>\n",
       "    .dataframe tbody tr th:only-of-type {\n",
       "        vertical-align: middle;\n",
       "    }\n",
       "\n",
       "    .dataframe tbody tr th {\n",
       "        vertical-align: top;\n",
       "    }\n",
       "\n",
       "    .dataframe thead th {\n",
       "        text-align: right;\n",
       "    }\n",
       "</style>\n",
       "<table border=\"1\" class=\"dataframe\">\n",
       "  <thead>\n",
       "    <tr style=\"text-align: right;\">\n",
       "      <th></th>\n",
       "      <th>score</th>\n",
       "      <th>word</th>\n",
       "    </tr>\n",
       "  </thead>\n",
       "  <tbody>\n",
       "    <tr>\n",
       "      <th>1114</th>\n",
       "      <td>-2</td>\n",
       "      <td>صعب</td>\n",
       "    </tr>\n",
       "    <tr>\n",
       "      <th>1115</th>\n",
       "      <td>-3</td>\n",
       "      <td>الخيبه</td>\n",
       "    </tr>\n",
       "    <tr>\n",
       "      <th>1116</th>\n",
       "      <td>-1</td>\n",
       "      <td>فاحش</td>\n",
       "    </tr>\n",
       "    <tr>\n",
       "      <th>1117</th>\n",
       "      <td>-2</td>\n",
       "      <td>زائد</td>\n",
       "    </tr>\n",
       "    <tr>\n",
       "      <th>1118</th>\n",
       "      <td>-3</td>\n",
       "      <td>مخيسة</td>\n",
       "    </tr>\n",
       "  </tbody>\n",
       "</table>\n",
       "</div>"
      ],
      "text/plain": [
       "      score    word\n",
       "1114     -2     صعب\n",
       "1115     -3  الخيبه\n",
       "1116     -1    فاحش\n",
       "1117     -2    زائد\n",
       "1118     -3   مخيسة"
      ]
     },
     "execution_count": 3,
     "metadata": {},
     "output_type": "execute_result"
    }
   ],
   "source": [
    "negative = pd.read_csv('negative.csv', encoding = 'utf-8')\n",
    "negative.tail()"
   ]
  },
  {
   "cell_type": "code",
   "execution_count": 4,
   "id": "76441cc6-7f53-43e4-bacf-48fb80ec7fa7",
   "metadata": {},
   "outputs": [
    {
     "name": "stdout",
     "output_type": "stream",
     "text": [
      "Requirement already satisfied: nltk in c:\\users\\user\\anaconda3\\lib\\site-packages (3.9.1)\n",
      "Requirement already satisfied: click in c:\\users\\user\\anaconda3\\lib\\site-packages (from nltk) (8.1.7)\n",
      "Requirement already satisfied: joblib in c:\\users\\user\\anaconda3\\lib\\site-packages (from nltk) (1.4.2)\n",
      "Requirement already satisfied: regex>=2021.8.3 in c:\\users\\user\\anaconda3\\lib\\site-packages (from nltk) (2024.9.11)\n",
      "Requirement already satisfied: tqdm in c:\\users\\user\\anaconda3\\lib\\site-packages (from nltk) (4.66.5)\n",
      "Requirement already satisfied: colorama in c:\\users\\user\\anaconda3\\lib\\site-packages (from click->nltk) (0.4.6)\n"
     ]
    }
   ],
   "source": [
    "!pip install nltk"
   ]
  },
  {
   "cell_type": "code",
   "execution_count": 5,
   "id": "07a33ced-e065-4336-a041-96b3d0d73e60",
   "metadata": {},
   "outputs": [
    {
     "name": "stdout",
     "output_type": "stream",
     "text": [
      "Requirement already satisfied: snowballstemmer in c:\\users\\user\\anaconda3\\lib\\site-packages (2.2.0)\n"
     ]
    }
   ],
   "source": [
    "!pip install snowballstemmer"
   ]
  },
  {
   "cell_type": "code",
   "execution_count": 6,
   "id": "2fd31a2e-aef8-4858-acf0-6e79f021957d",
   "metadata": {},
   "outputs": [
    {
     "name": "stderr",
     "output_type": "stream",
     "text": [
      "[nltk_data] Downloading package stopwords to\n",
      "[nltk_data]     C:\\Users\\user\\AppData\\Roaming\\nltk_data...\n",
      "[nltk_data]   Package stopwords is already up-to-date!\n"
     ]
    }
   ],
   "source": [
    "import nltk\n",
    "nltk.download('stopwords')\n",
    "\n",
    "from nltk.corpus import stopwords\n",
    "from nltk.tokenize import word_tokenize\n",
    "from snowballstemmer import stemmer\n",
    "import string"
   ]
  },
  {
   "cell_type": "code",
   "execution_count": 7,
   "id": "2a8e6a24-d423-43a1-b9cf-2eb72d4fc431",
   "metadata": {},
   "outputs": [],
   "source": [
    "def remove_chars(text, del_chars):\n",
    "    for char in del_chars:\n",
    "        text = text.replace(char, \"\")\n",
    "    return text"
   ]
  },
  {
   "cell_type": "code",
   "execution_count": 8,
   "id": "9f138e3b-c33d-4d32-bfcf-10606a467cc0",
   "metadata": {},
   "outputs": [],
   "source": [
    "def cleaningText(text):\n",
    "    \n",
    "    numbers=\"0123456789\"\n",
    "    arabic_punctuation='''`÷×؛<>_()*^ـ،/:\"؟.,'~¦+|!”…“–ـ'''\n",
    "    english_punctuation=string.punctuation\n",
    "    \n",
    "    del_chars=english_punctuation+arabic_punctuation+numbers\n",
    "    text = remove_chars(text, del_chars)\n",
    "     \n",
    "    text = text.replace('\\n', ' ')  \n",
    "       \n",
    "    text = text.strip(' ')  \n",
    "    return text"
   ]
  },
  {
   "cell_type": "code",
   "execution_count": 9,
   "id": "78ce7282-0d25-4037-bb2f-76cec92ebc12",
   "metadata": {},
   "outputs": [],
   "source": [
    "def filteringText(tokens_list):  \n",
    "    \n",
    "    listStopwords = stopwords.words('arabic')\n",
    "    filtered = []\n",
    "    for txt in tokens_list:\n",
    "        if txt not in listStopwords:\n",
    "            filtered.append(txt)\n",
    "    return filtered"
   ]
  },
  {
   "cell_type": "code",
   "execution_count": 10,
   "id": "7f00de87-0e7e-43b4-92ee-b38e96baaea5",
   "metadata": {},
   "outputs": [],
   "source": [
    "def toSentence(words_list):  \n",
    "    sentence = ' '.join(word for word in words_list)\n",
    "    return sentence"
   ]
  },
  {
   "cell_type": "code",
   "execution_count": 11,
   "id": "b80bd08d-2a70-4ae6-b259-0d0a8cff3002",
   "metadata": {},
   "outputs": [],
   "source": [
    "def stemmingText(tokens_list): \n",
    "    \n",
    "    ar_stemmer = stemmer(\"arabic\")\n",
    "    tokens_list_stem = [ar_stemmer.stemWord(word) for word in tokens_list]\n",
    "    return tokens_list_stem"
   ]
  },
  {
   "cell_type": "code",
   "execution_count": 12,
   "id": "e49a8d38-e209-4235-844e-94d14e665330",
   "metadata": {},
   "outputs": [
    {
     "name": "stdout",
     "output_type": "stream",
     "text": [
      "رايع\n",
      "رايع\n",
      "رايع\n",
      "رايع\n"
     ]
    }
   ],
   "source": [
    "ar_stemmer = stemmer(\"arabic\")\n",
    "\n",
    "stem = ar_stemmer.stemWord(\"رايع\")\n",
    "print (stem)\n",
    "\n",
    "stem = ar_stemmer.stemWord(\"رائع\")\n",
    "print (stem)\n",
    "\n",
    "stem = ar_stemmer.stemWord(\"رائعون\")\n",
    "print (stem)\n",
    "\n",
    "stem = ar_stemmer.stemWord(\"رائعين\")\n",
    "print (stem)"
   ]
  },
  {
   "cell_type": "code",
   "execution_count": 13,
   "id": "e3c94c5b-64f9-481b-91a8-67b4cd485ff8",
   "metadata": {},
   "outputs": [
    {
     "name": "stdout",
     "output_type": "stream",
     "text": [
      "احب التطبيق واستمتع باستخدامه، حيث انه يوجد به الكثير من الاختيارات والعروض المميزة! \n",
      "احب التطبيق واستمتع باستخدامه حيث انه يوجد به الكثير من الاختيارات والعروض المميزة\n",
      "['احب', 'التطبيق', 'واستمتع', 'باستخدامه', 'حيث', 'انه', 'يوجد', 'به', 'الكثير', 'من', 'الاختيارات', 'والعروض', 'المميزة']\n",
      "['احب', 'التطبيق', 'واستمتع', 'باستخدامه', 'انه', 'يوجد', 'الكثير', 'الاختيارات', 'والعروض', 'المميزة']\n",
      "['احب', 'تطبيق', 'واستمتع', 'باستخدام', 'انه', 'يوجد', 'كثير', 'اختيار', 'والعروض', 'مميز']\n"
     ]
    }
   ],
   "source": [
    "text= \"احب التطبيق واستمتع باستخدامه، حيث انه يوجد به الكثير من الاختيارات والعروض المميزة! \"\n",
    "print(text)\n",
    "\n",
    "text=cleaningText(text)\n",
    "print(text)\n",
    "\n",
    "tokens_list=word_tokenize(text)\n",
    "print(tokens_list)\n",
    "\n",
    "tokens_list=filteringText(tokens_list)\n",
    "print(tokens_list)\n",
    "\n",
    "tokens_list=stemmingText(tokens_list)\n",
    "print(tokens_list)"
   ]
  },
  {
   "cell_type": "code",
   "execution_count": 14,
   "id": "79bb08be-43a7-4ff8-bed2-cfdb50416b85",
   "metadata": {},
   "outputs": [],
   "source": [
    "def text_preprocessing(text):\n",
    "    text = cleaningText(text)\n",
    "    tokens = word_tokenize(text)\n",
    "    tokens = filteringText(tokens)\n",
    "    tokens = stemmingText(tokens)\n",
    "    return tokens\n"
   ]
  },
  {
   "cell_type": "code",
   "execution_count": 15,
   "id": "cbd89b45-63f1-4de7-8dcd-d3a52c8a0d87",
   "metadata": {},
   "outputs": [],
   "source": [
    "reviews['review_preprocessed'] = reviews['reviews'].apply(text_preprocessing)\n",
    "reviews.drop_duplicates(subset = 'review_preprocessed', inplace=True)"
   ]
  },
  {
   "cell_type": "code",
   "execution_count": 16,
   "id": "f26d29d3-365e-4b36-9257-1cb4420b3d88",
   "metadata": {},
   "outputs": [],
   "source": [
    "positive['word_preprocessed'] = positive['word'].apply(text_preprocessing)\n",
    "positive['word_preprocessed'] = positive['word_preprocessed'].apply(toSentence)\n",
    "\n",
    "positive.drop_duplicates(subset = 'word_preprocessed', inplace=True)\n",
    "positive.dropna(subset = 'word_preprocessed', inplace=True)"
   ]
  },
  {
   "cell_type": "code",
   "execution_count": 17,
   "id": "91e9b422-ddc0-42c4-8f33-a931a5995de2",
   "metadata": {},
   "outputs": [],
   "source": [
    "negative['word_preprocessed'] = negative['word'].apply(text_preprocessing)\n",
    "negative['word_preprocessed'] = negative['word_preprocessed'].apply(toSentence)\n",
    "\n",
    "negative.drop_duplicates(subset = 'word_preprocessed', inplace=True)\n",
    "negative.dropna(subset = 'word_preprocessed', inplace=True)"
   ]
  },
  {
   "cell_type": "code",
   "execution_count": 18,
   "id": "83d34497-d9a7-4fd4-a136-90ad29ca4158",
   "metadata": {},
   "outputs": [],
   "source": [
    "dict_positive = dict()\n",
    "\n",
    "for _, row in positive.iterrows():\n",
    "    word = row['word_preprocessed'].strip()\n",
    "    dict_positive[word] = int(row['score'])\n",
    "\n",
    "dict_negative = dict()\n",
    "\n",
    "for _, row in negative.iterrows():\n",
    "    word = row['word_preprocessed'].strip()\n",
    "    dict_negative[word] = int(row['score'])"
   ]
  },
  {
   "cell_type": "code",
   "execution_count": 19,
   "id": "30d8f2de-06bb-429c-a22d-c2b9510733b7",
   "metadata": {},
   "outputs": [],
   "source": [
    "def get_polarity(words_list):\n",
    "    score = 0\n",
    "    for word in words_list:\n",
    "        if (word in dict_positive):\n",
    "            score = score + dict_positive[word]\n",
    "    for word in words_list:\n",
    "        if (word in dict_negative):\n",
    "            score = score + dict_negative[word]\n",
    "    polarity=''\n",
    "    if (score > 0):\n",
    "        polarity = 'positive'\n",
    "    elif (score < 0):\n",
    "        polarity = 'negative'\n",
    "    else:\n",
    "        polarity = 'neutral'\n",
    "    return score, polarity"
   ]
  },
  {
   "cell_type": "code",
   "execution_count": 20,
   "id": "950e9eaa-f50a-4cc2-86d5-dc079c3372e6",
   "metadata": {},
   "outputs": [],
   "source": [
    "for idx, row in reviews.iterrows():\n",
    "    reviews_words = reviews.loc[idx, 'review_preprocessed']\n",
    "    score, polarity = get_polarity(reviews_words)\n",
    "    reviews.loc[idx, 'polarity_score'] = score\n",
    "    reviews.loc[idx, 'polarity'] = polarity"
   ]
  },
  {
   "cell_type": "code",
   "execution_count": 21,
   "id": "88a1f67b-aa76-43a7-9cd2-33926745ada2",
   "metadata": {},
   "outputs": [
    {
     "data": {
      "image/png": "[encoded data removed]",
      "text/plain": [
       "<Figure size 500x500 with 1 Axes>"
      ]
     },
     "metadata": {},
     "output_type": "display_data"
    }
   ],
   "source": [
    "import matplotlib.pyplot as plt\n",
    "\n",
    "fig, ax = plt.subplots(figsize = (5, 5))\n",
    "x = reviews['polarity'].value_counts()\n",
    "labels = reviews['polarity'].value_counts().index\n",
    "explode = (0.1, 0 ,0)\n",
    "\n",
    "ax.pie(x=x, labels=labels, autopct='%1.1f%%', explode=explode, textprops={'fontsize': 14})\n",
    "\n",
    "ax.set_title('Reviews Polarity', fontsize= 15, pad = 20)\n",
    "plt.show()"
   ]
  },
  {
   "cell_type": "code",
   "execution_count": 22,
   "id": "3d341de9-9a0e-475e-ab34-64bbbeb98e6b",
   "metadata": {},
   "outputs": [
    {
     "data": {
      "text/html": [
       "<div>\n",
       "<style scoped>\n",
       "    .dataframe tbody tr th:only-of-type {\n",
       "        vertical-align: middle;\n",
       "    }\n",
       "\n",
       "    .dataframe tbody tr th {\n",
       "        vertical-align: top;\n",
       "    }\n",
       "\n",
       "    .dataframe thead th {\n",
       "        text-align: right;\n",
       "    }\n",
       "</style>\n",
       "<table border=\"1\" class=\"dataframe\">\n",
       "  <thead>\n",
       "    <tr style=\"text-align: right;\">\n",
       "      <th></th>\n",
       "      <th>reviews</th>\n",
       "      <th>polarity_score</th>\n",
       "    </tr>\n",
       "  </thead>\n",
       "  <tbody>\n",
       "    <tr>\n",
       "      <th>30512</th>\n",
       "      <td>روعه روعه روعه روعه روعه روعه روعه روعه روعه ر...</td>\n",
       "      <td>174.0</td>\n",
       "    </tr>\n",
       "    <tr>\n",
       "      <th>13139</th>\n",
       "      <td>تحفه جدا اتمني تجربوه انا عندي قناه علي اليوتي...</td>\n",
       "      <td>130.0</td>\n",
       "    </tr>\n",
       "    <tr>\n",
       "      <th>27467</th>\n",
       "      <td>روعة روعة روعة روعة روعة روعة روعة روعة روعة ر...</td>\n",
       "      <td>105.0</td>\n",
       "    </tr>\n",
       "    <tr>\n",
       "      <th>39651</th>\n",
       "      <td>الي/ السيد الاستاذ رئيس مجلس إدارة شركة طلعت م...</td>\n",
       "      <td>64.0</td>\n",
       "    </tr>\n",
       "    <tr>\n",
       "      <th>39560</th>\n",
       "      <td>تمام تمام تمام تمام تمام تمام تمام تمام تمام ت...</td>\n",
       "      <td>48.0</td>\n",
       "    </tr>\n",
       "  </tbody>\n",
       "</table>\n",
       "</div>"
      ],
      "text/plain": [
       "                                                 reviews  polarity_score\n",
       "30512  روعه روعه روعه روعه روعه روعه روعه روعه روعه ر...           174.0\n",
       "13139  تحفه جدا اتمني تجربوه انا عندي قناه علي اليوتي...           130.0\n",
       "27467  روعة روعة روعة روعة روعة روعة روعة روعة روعة ر...           105.0\n",
       "39651  الي/ السيد الاستاذ رئيس مجلس إدارة شركة طلعت م...            64.0\n",
       "39560  تمام تمام تمام تمام تمام تمام تمام تمام تمام ت...            48.0"
      ]
     },
     "execution_count": 22,
     "metadata": {},
     "output_type": "execute_result"
    }
   ],
   "source": [
    "positive_reviews = reviews[reviews['polarity']== 'positive']\n",
    "positive_reviews = positive_reviews.sort_values(by = 'polarity_score', ascending = False)\n",
    "\n",
    "positive_reviews[['reviews', 'polarity_score']].head()"
   ]
  },
  {
   "cell_type": "code",
   "execution_count": 23,
   "id": "1b394a6a-819a-445a-9267-17564beb9681",
   "metadata": {},
   "outputs": [
    {
     "data": {
      "text/html": [
       "<div>\n",
       "<style scoped>\n",
       "    .dataframe tbody tr th:only-of-type {\n",
       "        vertical-align: middle;\n",
       "    }\n",
       "\n",
       "    .dataframe tbody tr th {\n",
       "        vertical-align: top;\n",
       "    }\n",
       "\n",
       "    .dataframe thead th {\n",
       "        text-align: right;\n",
       "    }\n",
       "</style>\n",
       "<table border=\"1\" class=\"dataframe\">\n",
       "  <thead>\n",
       "    <tr style=\"text-align: right;\">\n",
       "      <th></th>\n",
       "      <th>reviews</th>\n",
       "      <th>polarity_score</th>\n",
       "    </tr>\n",
       "  </thead>\n",
       "  <tbody>\n",
       "    <tr>\n",
       "      <th>2</th>\n",
       "      <td>التطبيق لا يغتح دائما بيعطيني لا يوجد اتصال با...</td>\n",
       "      <td>-1.0</td>\n",
       "    </tr>\n",
       "    <tr>\n",
       "      <th>16220</th>\n",
       "      <td>الواحد بقى مدمن كنتاكي 😍😍😍</td>\n",
       "      <td>-1.0</td>\n",
       "    </tr>\n",
       "    <tr>\n",
       "      <th>15973</th>\n",
       "      <td>ليش التوصيل مش مجاني؟؟؟</td>\n",
       "      <td>-1.0</td>\n",
       "    </tr>\n",
       "    <tr>\n",
       "      <th>15977</th>\n",
       "      <td>رااااائع بمعنى الكلمة للأمام دائما 💪</td>\n",
       "      <td>-1.0</td>\n",
       "    </tr>\n",
       "    <tr>\n",
       "      <th>15992</th>\n",
       "      <td>سعر التوصيل افضل من هنقرستيشن</td>\n",
       "      <td>-1.0</td>\n",
       "    </tr>\n",
       "  </tbody>\n",
       "</table>\n",
       "</div>"
      ],
      "text/plain": [
       "                                                 reviews  polarity_score\n",
       "2      التطبيق لا يغتح دائما بيعطيني لا يوجد اتصال با...            -1.0\n",
       "16220                         الواحد بقى مدمن كنتاكي 😍😍😍            -1.0\n",
       "15973                            ليش التوصيل مش مجاني؟؟؟            -1.0\n",
       "15977               رااااائع بمعنى الكلمة للأمام دائما 💪            -1.0\n",
       "15992                      سعر التوصيل افضل من هنقرستيشن            -1.0"
      ]
     },
     "execution_count": 23,
     "metadata": {},
     "output_type": "execute_result"
    }
   ],
   "source": [
    "negative_reviews = reviews[reviews['polarity']== 'negative']\n",
    "negative_reviews = negative_reviews.sort_values(by = 'polarity_score', ascending = False)\n",
    "\n",
    "negative_reviews[['reviews', 'polarity_score']].head()"
   ]
  },
  {
   "cell_type": "code",
   "execution_count": 24,
   "id": "f6e7cb1f-f69f-40c3-aabd-1d160f54f3d7",
   "metadata": {},
   "outputs": [
    {
     "name": "stdout",
     "output_type": "stream",
     "text": [
      "Requirement already satisfied: wordcloud in c:\\users\\user\\anaconda3\\lib\\site-packages (1.9.4)\n",
      "Requirement already satisfied: numpy>=1.6.1 in c:\\users\\user\\anaconda3\\lib\\site-packages (from wordcloud) (1.26.4)\n",
      "Requirement already satisfied: pillow in c:\\users\\user\\anaconda3\\lib\\site-packages (from wordcloud) (11.1.0)\n",
      "Requirement already satisfied: matplotlib in c:\\users\\user\\anaconda3\\lib\\site-packages (from wordcloud) (3.9.2)\n",
      "Requirement already satisfied: contourpy>=1.0.1 in c:\\users\\user\\anaconda3\\lib\\site-packages (from matplotlib->wordcloud) (1.2.0)\n",
      "Requirement already satisfied: cycler>=0.10 in c:\\users\\user\\anaconda3\\lib\\site-packages (from matplotlib->wordcloud) (0.11.0)\n",
      "Requirement already satisfied: fonttools>=4.22.0 in c:\\users\\user\\anaconda3\\lib\\site-packages (from matplotlib->wordcloud) (4.51.0)\n",
      "Requirement already satisfied: kiwisolver>=1.3.1 in c:\\users\\user\\anaconda3\\lib\\site-packages (from matplotlib->wordcloud) (1.4.4)\n",
      "Requirement already satisfied: packaging>=20.0 in c:\\users\\user\\anaconda3\\lib\\site-packages (from matplotlib->wordcloud) (24.1)\n",
      "Requirement already satisfied: pyparsing>=2.3.1 in c:\\users\\user\\anaconda3\\lib\\site-packages (from matplotlib->wordcloud) (3.1.2)\n",
      "Requirement already satisfied: python-dateutil>=2.7 in c:\\users\\user\\anaconda3\\lib\\site-packages (from matplotlib->wordcloud) (2.9.0.post0)\n",
      "Requirement already satisfied: six>=1.5 in c:\\users\\user\\anaconda3\\lib\\site-packages (from python-dateutil>=2.7->matplotlib->wordcloud) (1.16.0)\n"
     ]
    }
   ],
   "source": [
    "!pip install wordcloud"
   ]
  },
  {
   "cell_type": "code",
   "execution_count": 25,
   "id": "067b48a0-b623-4df0-a154-643426de112a",
   "metadata": {},
   "outputs": [
    {
     "name": "stdout",
     "output_type": "stream",
     "text": [
      "Requirement already satisfied: arabic_reshaper in c:\\users\\user\\anaconda3\\lib\\site-packages (3.0.0)\n"
     ]
    }
   ],
   "source": [
    "!pip install arabic_reshaper"
   ]
  },
  {
   "cell_type": "code",
   "execution_count": 26,
   "id": "56fa2f6f-88df-4040-aea7-1482d046a451",
   "metadata": {},
   "outputs": [
    {
     "name": "stdout",
     "output_type": "stream",
     "text": [
      "Requirement already satisfied: python-bidi in c:\\users\\user\\anaconda3\\lib\\site-packages (0.6.3)\n"
     ]
    }
   ],
   "source": [
    "!pip install python-bidi"
   ]
  },
  {
   "cell_type": "code",
   "execution_count": 27,
   "id": "bba008cb-6399-447c-a52d-48d676488287",
   "metadata": {},
   "outputs": [
    {
     "name": "stdout",
     "output_type": "stream",
     "text": [
      "Requirement already satisfied: pillow in c:\\users\\user\\anaconda3\\lib\\site-packages (11.1.0)\n"
     ]
    }
   ],
   "source": [
    "!pip install --upgrade pillow"
   ]
  },
  {
   "cell_type": "code",
   "execution_count": 28,
   "id": "d37d4e5d-1965-4dfa-8b87-6c4f1c55fe8f",
   "metadata": {},
   "outputs": [
    {
     "name": "stdout",
     "output_type": "stream",
     "text": [
      "Requirement already satisfied: wordcloud in c:\\users\\user\\anaconda3\\lib\\site-packages (1.9.4)\n",
      "Requirement already satisfied: numpy>=1.6.1 in c:\\users\\user\\anaconda3\\lib\\site-packages (from wordcloud) (1.26.4)\n",
      "Requirement already satisfied: pillow in c:\\users\\user\\anaconda3\\lib\\site-packages (from wordcloud) (11.1.0)\n",
      "Requirement already satisfied: matplotlib in c:\\users\\user\\anaconda3\\lib\\site-packages (from wordcloud) (3.9.2)\n",
      "Requirement already satisfied: contourpy>=1.0.1 in c:\\users\\user\\anaconda3\\lib\\site-packages (from matplotlib->wordcloud) (1.2.0)\n",
      "Requirement already satisfied: cycler>=0.10 in c:\\users\\user\\anaconda3\\lib\\site-packages (from matplotlib->wordcloud) (0.11.0)\n",
      "Requirement already satisfied: fonttools>=4.22.0 in c:\\users\\user\\anaconda3\\lib\\site-packages (from matplotlib->wordcloud) (4.51.0)\n",
      "Requirement already satisfied: kiwisolver>=1.3.1 in c:\\users\\user\\anaconda3\\lib\\site-packages (from matplotlib->wordcloud) (1.4.4)\n",
      "Requirement already satisfied: packaging>=20.0 in c:\\users\\user\\anaconda3\\lib\\site-packages (from matplotlib->wordcloud) (24.1)\n",
      "Requirement already satisfied: pyparsing>=2.3.1 in c:\\users\\user\\anaconda3\\lib\\site-packages (from matplotlib->wordcloud) (3.1.2)\n",
      "Requirement already satisfied: python-dateutil>=2.7 in c:\\users\\user\\anaconda3\\lib\\site-packages (from matplotlib->wordcloud) (2.9.0.post0)\n",
      "Requirement already satisfied: six>=1.5 in c:\\users\\user\\anaconda3\\lib\\site-packages (from python-dateutil>=2.7->matplotlib->wordcloud) (1.16.0)\n"
     ]
    }
   ],
   "source": [
    "!pip install --upgrade wordcloud"
   ]
  },
  {
   "cell_type": "code",
   "execution_count": 29,
   "id": "5dc3c94a-3ea8-4500-85f7-681b4f03d640",
   "metadata": {},
   "outputs": [
    {
     "name": "stdout",
     "output_type": "stream",
     "text": [
      "False\n"
     ]
    }
   ],
   "source": [
    "import os\n",
    "print(os.path.exists(\"Arial.ttf\"))"
   ]
  },
  {
   "cell_type": "code",
   "execution_count": 30,
   "id": "23442b9b-91cf-4334-9b6a-99292baa0cee",
   "metadata": {},
   "outputs": [
    {
     "data": {
      "image/png": "[encoded data removed]",
      "text/plain": [
       "<Figure size 800x600 with 1 Axes>"
      ]
     },
     "metadata": {},
     "output_type": "display_data"
    }
   ],
   "source": [
    "from wordcloud import WordCloud\n",
    "import arabic_reshaper\n",
    "from bidi.algorithm import get_display\n",
    "from matplotlib import rcParams\n",
    "\n",
    "list_words = ''\n",
    "i=0\n",
    "\n",
    "for review in reviews['review_preprocessed']:\n",
    "    for word in reviews:\n",
    "        i = i+1\n",
    "        if i>100:\n",
    "            break\n",
    "        list_words += ' '+(word)\n",
    "\n",
    "reshaped = arabic_reshaper.reshape(list_words)\n",
    "artext = get_display(reshaped)\n",
    "\n",
    "wordcloud = WordCloud(width=600, height=400, background_color='black', min_font_size=10).generate(artext)\n",
    "\n",
    "\n",
    "fig, ax = plt.subplots(figsize=(8, 6))\n",
    "\n",
    "ax.set_title('Reviews Words Cloud', fontsize=16)\n",
    "ax.grid(False)\n",
    "ax.imshow((wordcloud))\n",
    "fig.tight_layout(pad=0)\n",
    "ax.axis('off')\n",
    "plt.show()"
   ]
  },
  {
   "cell_type": "code",
   "execution_count": 31,
   "id": "aeea1cde-7568-48ee-a1e8-d86b67213482",
   "metadata": {},
   "outputs": [],
   "source": [
    "# wordcloud = WordCloud(font_path=\"DroidSansMono.ttf\", width = 600, height = 400, background_color = 'black', min_font_size = 10).generate(artext)"
   ]
  },
  {
   "cell_type": "code",
   "execution_count": 34,
   "id": "cf116cf0-1797-4a09-a8e3-9a1a8c94b3a0",
   "metadata": {},
   "outputs": [
    {
     "ename": "OSError",
     "evalue": "cannot open resource",
     "output_type": "error",
     "traceback": [
      "\u001b[1;31m---------------------------------------------------------------------------\u001b[0m",
      "\u001b[1;31mOSError\u001b[0m                                   Traceback (most recent call last)",
      "Cell \u001b[1;32mIn[34], line 15\u001b[0m\n\u001b[0;32m      8\u001b[0m reshaped_text \u001b[38;5;241m=\u001b[39m arabic_reshaper\u001b[38;5;241m.\u001b[39mreshape(list_positive_words)\n\u001b[0;32m      9\u001b[0m artext \u001b[38;5;241m=\u001b[39m get_display(reshaped_text)\n\u001b[0;32m     11\u001b[0m wordcloud_positive \u001b[38;5;241m=\u001b[39m WordCloud(font_path\u001b[38;5;241m=\u001b[39m\u001b[38;5;124m'\u001b[39m\u001b[38;5;124mDroidSansMono.ttf\u001b[39m\u001b[38;5;124m'\u001b[39m,\n\u001b[0;32m     12\u001b[0m                                width \u001b[38;5;241m=\u001b[39m \u001b[38;5;241m800\u001b[39m, height \u001b[38;5;241m=\u001b[39m \u001b[38;5;241m600\u001b[39m, \n\u001b[0;32m     13\u001b[0m                                background_color \u001b[38;5;241m=\u001b[39m \u001b[38;5;124m'\u001b[39m\u001b[38;5;124mblack\u001b[39m\u001b[38;5;124m'\u001b[39m, \n\u001b[0;32m     14\u001b[0m                                colormap \u001b[38;5;241m=\u001b[39m \u001b[38;5;124m'\u001b[39m\u001b[38;5;124mGreens\u001b[39m\u001b[38;5;124m'\u001b[39m,\n\u001b[1;32m---> 15\u001b[0m                                min_font_size \u001b[38;5;241m=\u001b[39m \u001b[38;5;241m10\u001b[39m)\u001b[38;5;241m.\u001b[39mgenerate(artext)\n\u001b[0;32m     17\u001b[0m ax[\u001b[38;5;241m0\u001b[39m]\u001b[38;5;241m.\u001b[39mset_title(\u001b[38;5;124m'\u001b[39m\u001b[38;5;124m Positive Words\u001b[39m\u001b[38;5;124m'\u001b[39m, fontsize \u001b[38;5;241m=\u001b[39m \u001b[38;5;241m14\u001b[39m)\n\u001b[0;32m     18\u001b[0m ax[\u001b[38;5;241m0\u001b[39m]\u001b[38;5;241m.\u001b[39mgrid(\u001b[38;5;28;01mFalse\u001b[39;00m)\n",
      "File \u001b[1;32m~\\anaconda3\\Lib\\site-packages\\wordcloud\\wordcloud.py:642\u001b[0m, in \u001b[0;36mWordCloud.generate\u001b[1;34m(self, text)\u001b[0m\n\u001b[0;32m    627\u001b[0m \u001b[38;5;28;01mdef\u001b[39;00m \u001b[38;5;21mgenerate\u001b[39m(\u001b[38;5;28mself\u001b[39m, text):\n\u001b[0;32m    628\u001b[0m \u001b[38;5;250m    \u001b[39m\u001b[38;5;124;03m\"\"\"Generate wordcloud from text.\u001b[39;00m\n\u001b[0;32m    629\u001b[0m \n\u001b[0;32m    630\u001b[0m \u001b[38;5;124;03m    The input \"text\" is expected to be a natural text. If you pass a sorted\u001b[39;00m\n\u001b[1;32m   (...)\u001b[0m\n\u001b[0;32m    640\u001b[0m \u001b[38;5;124;03m    self\u001b[39;00m\n\u001b[0;32m    641\u001b[0m \u001b[38;5;124;03m    \"\"\"\u001b[39;00m\n\u001b[1;32m--> 642\u001b[0m     \u001b[38;5;28;01mreturn\u001b[39;00m \u001b[38;5;28mself\u001b[39m\u001b[38;5;241m.\u001b[39mgenerate_from_text(text)\n",
      "File \u001b[1;32m~\\anaconda3\\Lib\\site-packages\\wordcloud\\wordcloud.py:624\u001b[0m, in \u001b[0;36mWordCloud.generate_from_text\u001b[1;34m(self, text)\u001b[0m\n\u001b[0;32m    607\u001b[0m \u001b[38;5;250m\u001b[39m\u001b[38;5;124;03m\"\"\"Generate wordcloud from text.\u001b[39;00m\n\u001b[0;32m    608\u001b[0m \n\u001b[0;32m    609\u001b[0m \u001b[38;5;124;03mThe input \"text\" is expected to be a natural text. If you pass a sorted\u001b[39;00m\n\u001b[1;32m   (...)\u001b[0m\n\u001b[0;32m    621\u001b[0m \u001b[38;5;124;03mself\u001b[39;00m\n\u001b[0;32m    622\u001b[0m \u001b[38;5;124;03m\"\"\"\u001b[39;00m\n\u001b[0;32m    623\u001b[0m words \u001b[38;5;241m=\u001b[39m \u001b[38;5;28mself\u001b[39m\u001b[38;5;241m.\u001b[39mprocess_text(text)\n\u001b[1;32m--> 624\u001b[0m \u001b[38;5;28mself\u001b[39m\u001b[38;5;241m.\u001b[39mgenerate_from_frequencies(words)\n\u001b[0;32m    625\u001b[0m \u001b[38;5;28;01mreturn\u001b[39;00m \u001b[38;5;28mself\u001b[39m\n",
      "File \u001b[1;32m~\\anaconda3\\Lib\\site-packages\\wordcloud\\wordcloud.py:453\u001b[0m, in \u001b[0;36mWordCloud.generate_from_frequencies\u001b[1;34m(self, frequencies, max_font_size)\u001b[0m\n\u001b[0;32m    451\u001b[0m     font_size \u001b[38;5;241m=\u001b[39m \u001b[38;5;28mself\u001b[39m\u001b[38;5;241m.\u001b[39mheight\n\u001b[0;32m    452\u001b[0m \u001b[38;5;28;01melse\u001b[39;00m:\n\u001b[1;32m--> 453\u001b[0m     \u001b[38;5;28mself\u001b[39m\u001b[38;5;241m.\u001b[39mgenerate_from_frequencies(\u001b[38;5;28mdict\u001b[39m(frequencies[:\u001b[38;5;241m2\u001b[39m]),\n\u001b[0;32m    454\u001b[0m                                    max_font_size\u001b[38;5;241m=\u001b[39m\u001b[38;5;28mself\u001b[39m\u001b[38;5;241m.\u001b[39mheight)\n\u001b[0;32m    455\u001b[0m     \u001b[38;5;66;03m# find font sizes\u001b[39;00m\n\u001b[0;32m    456\u001b[0m     sizes \u001b[38;5;241m=\u001b[39m [x[\u001b[38;5;241m1\u001b[39m] \u001b[38;5;28;01mfor\u001b[39;00m x \u001b[38;5;129;01min\u001b[39;00m \u001b[38;5;28mself\u001b[39m\u001b[38;5;241m.\u001b[39mlayout_]\n",
      "File \u001b[1;32m~\\anaconda3\\Lib\\site-packages\\wordcloud\\wordcloud.py:506\u001b[0m, in \u001b[0;36mWordCloud.generate_from_frequencies\u001b[1;34m(self, frequencies, max_font_size)\u001b[0m\n\u001b[0;32m    504\u001b[0m     \u001b[38;5;28;01mbreak\u001b[39;00m\n\u001b[0;32m    505\u001b[0m \u001b[38;5;66;03m# try to find a position\u001b[39;00m\n\u001b[1;32m--> 506\u001b[0m font \u001b[38;5;241m=\u001b[39m ImageFont\u001b[38;5;241m.\u001b[39mtruetype(\u001b[38;5;28mself\u001b[39m\u001b[38;5;241m.\u001b[39mfont_path, font_size)\n\u001b[0;32m    507\u001b[0m \u001b[38;5;66;03m# transpose font optionally\u001b[39;00m\n\u001b[0;32m    508\u001b[0m transposed_font \u001b[38;5;241m=\u001b[39m ImageFont\u001b[38;5;241m.\u001b[39mTransposedFont(\n\u001b[0;32m    509\u001b[0m     font, orientation\u001b[38;5;241m=\u001b[39morientation)\n",
      "File \u001b[1;32m~\\anaconda3\\Lib\\site-packages\\PIL\\ImageFont.py:879\u001b[0m, in \u001b[0;36mtruetype\u001b[1;34m(font, size, index, encoding, layout_engine)\u001b[0m\n\u001b[0;32m    876\u001b[0m     \u001b[38;5;28;01mreturn\u001b[39;00m FreeTypeFont(font, size, index, encoding, layout_engine)\n\u001b[0;32m    878\u001b[0m \u001b[38;5;28;01mtry\u001b[39;00m:\n\u001b[1;32m--> 879\u001b[0m     \u001b[38;5;28;01mreturn\u001b[39;00m freetype(font)\n\u001b[0;32m    880\u001b[0m \u001b[38;5;28;01mexcept\u001b[39;00m \u001b[38;5;167;01mOSError\u001b[39;00m:\n\u001b[0;32m    881\u001b[0m     \u001b[38;5;28;01mif\u001b[39;00m \u001b[38;5;129;01mnot\u001b[39;00m is_path(font):\n",
      "File \u001b[1;32m~\\anaconda3\\Lib\\site-packages\\PIL\\ImageFont.py:876\u001b[0m, in \u001b[0;36mtruetype.<locals>.freetype\u001b[1;34m(font)\u001b[0m\n\u001b[0;32m    875\u001b[0m \u001b[38;5;28;01mdef\u001b[39;00m \u001b[38;5;21mfreetype\u001b[39m(font: StrOrBytesPath \u001b[38;5;241m|\u001b[39m BinaryIO) \u001b[38;5;241m-\u001b[39m\u001b[38;5;241m>\u001b[39m FreeTypeFont:\n\u001b[1;32m--> 876\u001b[0m     \u001b[38;5;28;01mreturn\u001b[39;00m FreeTypeFont(font, size, index, encoding, layout_engine)\n",
      "File \u001b[1;32m~\\anaconda3\\Lib\\site-packages\\PIL\\ImageFont.py:284\u001b[0m, in \u001b[0;36mFreeTypeFont.__init__\u001b[1;34m(self, font, size, index, encoding, layout_engine)\u001b[0m\n\u001b[0;32m    282\u001b[0m                 load_from_bytes(f)\n\u001b[0;32m    283\u001b[0m             \u001b[38;5;28;01mreturn\u001b[39;00m\n\u001b[1;32m--> 284\u001b[0m     \u001b[38;5;28mself\u001b[39m\u001b[38;5;241m.\u001b[39mfont \u001b[38;5;241m=\u001b[39m core\u001b[38;5;241m.\u001b[39mgetfont(\n\u001b[0;32m    285\u001b[0m         font, size, index, encoding, layout_engine\u001b[38;5;241m=\u001b[39mlayout_engine\n\u001b[0;32m    286\u001b[0m     )\n\u001b[0;32m    287\u001b[0m \u001b[38;5;28;01melse\u001b[39;00m:\n\u001b[0;32m    288\u001b[0m     load_from_bytes(cast(IO[\u001b[38;5;28mbytes\u001b[39m], font))\n",
      "\u001b[1;31mOSError\u001b[0m: cannot open resource"
     ]
    },
    {
     "data": {
      "image/png": "[encoded data removed]",
      "text/plain": [
       "<Figure size 1200x1000 with 2 Axes>"
      ]
     },
     "metadata": {},
     "output_type": "display_data"
    }
   ],
   "source": [
    "fig, ax = plt.subplots(1, 2, figsize=(12, 10))\n",
    "positive_words = positive['word']\n",
    "negative_words = negative['word']\n",
    "\n",
    "list_positive_words = ''\n",
    "for word in  positive_words.values:\n",
    "    list_positive_words += ' '+(word)\n",
    "reshaped_text = arabic_reshaper.reshape(list_positive_words)\n",
    "artext = get_display(reshaped_text)\n",
    "\n",
    "wordcloud_positive = WordCloud(font_path='DroidSansMono.ttf',\n",
    "                               width = 800, height = 600, \n",
    "                               background_color = 'black', \n",
    "                               colormap = 'Greens',\n",
    "                               min_font_size = 10).generate(artext)\n",
    "\n",
    "ax[0].set_title(' Positive Words', fontsize = 14)\n",
    "ax[0].grid(False)\n",
    "ax[0].imshow((wordcloud_positive))\n",
    "fig.tight_layout(pad=0)\n",
    "ax[0].axis('off')\n",
    "\n",
    "list_negative_words =''\n",
    "for word in negative_words.values:\n",
    "    list_negative_words += ' '+(word)\n",
    "reshaped_text = arabic_reshaper.reshape(list_negative_words)\n",
    "artext = get_display(reshaped_text)\n",
    "\n",
    "wordcloud = WordCloud(font_path=\"NotoNaskhArabic-Regular.ttf\",\n",
    "                      width=600, height=400, background_color='black', min_font_size=10).generate(artext)\n",
    "\n",
    "ax[1].set_title('Negative Words', fontsize = 14)\n",
    "ax[1].grid(False)\n",
    "ax[1].imshow((wordcloud_negative))\n",
    "fig.tight_layout(pad=0)\n",
    "ax[1].axis('off')\n",
    "\n",
    "plt.show()"
   ]
  },
  {
   "cell_type": "code",
   "execution_count": 35,
   "id": "7e81ebb4-2bb4-47d1-9b4b-398d6bc4fc56",
   "metadata": {},
   "outputs": [
    {
     "data": {
      "text/html": [
       "<div>\n",
       "<style scoped>\n",
       "    .dataframe tbody tr th:only-of-type {\n",
       "        vertical-align: middle;\n",
       "    }\n",
       "\n",
       "    .dataframe tbody tr th {\n",
       "        vertical-align: top;\n",
       "    }\n",
       "\n",
       "    .dataframe thead th {\n",
       "        text-align: right;\n",
       "    }\n",
       "</style>\n",
       "<table border=\"1\" class=\"dataframe\">\n",
       "  <thead>\n",
       "    <tr style=\"text-align: right;\">\n",
       "      <th></th>\n",
       "      <th>reviews</th>\n",
       "      <th>review_preprocessed</th>\n",
       "      <th>polarity_score</th>\n",
       "      <th>polarity</th>\n",
       "    </tr>\n",
       "  </thead>\n",
       "  <tbody>\n",
       "    <tr>\n",
       "      <th>0</th>\n",
       "      <td>رائع</td>\n",
       "      <td>[رايع]</td>\n",
       "      <td>3.0</td>\n",
       "      <td>positive</td>\n",
       "    </tr>\n",
       "    <tr>\n",
       "      <th>1</th>\n",
       "      <td>برنامج رائع جدا يساعد على تلبيه الاحتياجات بشك...</td>\n",
       "      <td>[رنامج, رايع, جدا, يساعد, تلب, احتياج, شكل, اسرع]</td>\n",
       "      <td>6.0</td>\n",
       "      <td>positive</td>\n",
       "    </tr>\n",
       "    <tr>\n",
       "      <th>2</th>\n",
       "      <td>التطبيق لا يغتح دائما بيعطيني لا يوجد اتصال با...</td>\n",
       "      <td>[تطبيق, يغتح, دايم, يعط, يوجد, اتصال, شبكةمع, ...</td>\n",
       "      <td>-1.0</td>\n",
       "      <td>negative</td>\n",
       "    </tr>\n",
       "    <tr>\n",
       "      <th>3</th>\n",
       "      <td>لماذا لا يمكننا طلب من ماكدونالدز؟</td>\n",
       "      <td>[لماذ, يمك, طلب, ماكدونالدز]</td>\n",
       "      <td>0.0</td>\n",
       "      <td>neutral</td>\n",
       "    </tr>\n",
       "    <tr>\n",
       "      <th>4</th>\n",
       "      <td>البرنامج بيظهر كل المطاعم و مغلقه مع انها بتكو...</td>\n",
       "      <td>[برنامج, يظهر, مطاعم, مغلق, انه, تكون, فاتح, ق...</td>\n",
       "      <td>0.0</td>\n",
       "      <td>neutral</td>\n",
       "    </tr>\n",
       "  </tbody>\n",
       "</table>\n",
       "</div>"
      ],
      "text/plain": [
       "                                             reviews  \\\n",
       "0                                               رائع   \n",
       "1  برنامج رائع جدا يساعد على تلبيه الاحتياجات بشك...   \n",
       "2  التطبيق لا يغتح دائما بيعطيني لا يوجد اتصال با...   \n",
       "3                 لماذا لا يمكننا طلب من ماكدونالدز؟   \n",
       "4  البرنامج بيظهر كل المطاعم و مغلقه مع انها بتكو...   \n",
       "\n",
       "                                 review_preprocessed  polarity_score  polarity  \n",
       "0                                             [رايع]             3.0  positive  \n",
       "1  [رنامج, رايع, جدا, يساعد, تلب, احتياج, شكل, اسرع]             6.0  positive  \n",
       "2  [تطبيق, يغتح, دايم, يعط, يوجد, اتصال, شبكةمع, ...            -1.0  negative  \n",
       "3                       [لماذ, يمك, طلب, ماكدونالدز]             0.0   neutral  \n",
       "4  [برنامج, يظهر, مطاعم, مغلق, انه, تكون, فاتح, ق...             0.0   neutral  "
      ]
     },
     "execution_count": 35,
     "metadata": {},
     "output_type": "execute_result"
    }
   ],
   "source": [
    "reviews.head()"
   ]
  },
  {
   "cell_type": "code",
   "execution_count": 40,
   "id": "9f51db27-3b6b-4b11-8a38-b1bb17de72c3",
   "metadata": {},
   "outputs": [
    {
     "name": "stdout",
     "output_type": "stream",
     "text": [
      "{'learning': 1, 'intelligence': 2, 'artificial': 3, 'human': 4, 'machine': 5, 'deep': 6}\n"
     ]
    }
   ],
   "source": [
    "sentences = ['Artificial Intelligence Learning', \n",
    "                'Human Intelligence', \n",
    "                \"Machine Learning\", \n",
    "                \"Deep Learning\"]\n",
    "\n",
    "from tensorflow.keras.preprocessing.text import Tokenizer\n",
    "tokenizer = Tokenizer(num_words =10)\n",
    "tokenizer.fit_on_texts(sentences)\n",
    "print(tokenizer.word_index)"
   ]
  },
  {
   "cell_type": "code",
   "execution_count": 41,
   "id": "5c63762c-bb6d-421f-9f5e-f1d12383ed44",
   "metadata": {},
   "outputs": [
    {
     "name": "stdout",
     "output_type": "stream",
     "text": [
      "[[3, 2, 1], [4, 2], [5, 1], [6, 1]]\n"
     ]
    }
   ],
   "source": [
    "sequences = tokenizer.texts_to_sequences(sentences)\n",
    "print(sequences)"
   ]
  },
  {
   "cell_type": "code",
   "execution_count": 42,
   "id": "538e5d48-0d83-46ea-bdce-92e0e01eb1d6",
   "metadata": {},
   "outputs": [
    {
     "name": "stdout",
     "output_type": "stream",
     "text": [
      "[[3 2 1]\n",
      " [0 4 2]\n",
      " [0 5 1]\n",
      " [0 6 1]]\n"
     ]
    }
   ],
   "source": [
    "from tensorflow.keras.preprocessing.sequence import pad_sequences\n",
    "pads = pad_sequences(sequences, maxlen=3)\n",
    "print(pads)"
   ]
  },
  {
   "cell_type": "code",
   "execution_count": 43,
   "id": "607c0011-5291-41f1-a60d-619aa8679db7",
   "metadata": {},
   "outputs": [
    {
     "data": {
      "text/plain": [
       "0                                                     رايع\n",
       "1                 رنامج رايع جدا يساعد تلب احتياج شكل اسرع\n",
       "2        تطبيق يغتح دايم يعط يوجد اتصال شبكةمع انه النت...\n",
       "3                                  لماذ يمك طلب ماكدونالدز\n",
       "4        برنامج يظهر مطاعم مغلق انه تكون فاتح قال كده ا...\n",
       "                               ...                        \n",
       "40016                                     تحذير استخدم شرك\n",
       "40017                                        اسوء تجرب سفر\n",
       "40018                             تجرب مروع خدم عملاء رهيب\n",
       "40019                                 اسوء خدم حافلا مدارس\n",
       "40032                              حافل خير سايق قحون الاح\n",
       "Name: review_preprocessed, Length: 36963, dtype: object"
      ]
     },
     "execution_count": 43,
     "metadata": {},
     "output_type": "execute_result"
    }
   ],
   "source": [
    "sentences = reviews['review_preprocessed'].apply(toSentence)\n",
    "sentences"
   ]
  },
  {
   "cell_type": "code",
   "execution_count": 45,
   "id": "c9f75dd9-4b23-4343-aa2d-e60bc3aef137",
   "metadata": {},
   "outputs": [],
   "source": [
    "from tensorflow.keras.preprocessing.text import Tokenizer\n",
    "from tensorflow.keras.preprocessing.sequence import pad_sequences\n",
    "\n",
    "max_words = 5000\n",
    "sequence_max = 50\n",
    "tokenizer = Tokenizer(num_words=max_words)\n",
    "tokenizer.fit_on_texts(sentences.values)\n",
    "seq = tokenizer.texts_to_sequences(sentences.values)\n",
    "x = pad_sequences(seq, maxlen=sequence_max)"
   ]
  },
  {
   "cell_type": "code",
   "execution_count": 46,
   "id": "abdcabd7-7998-4bf6-ac27-5066723c33dc",
   "metadata": {},
   "outputs": [
    {
     "name": "stdout",
     "output_type": "stream",
     "text": [
      "مت عجب لان بن نادر اشوف شي محل دفع نقد\n",
      "[   0    0    0    0    0    0    0    0    0    0    0    0    0    0\n",
      "    0    0    0    0    0    0    0    0    0    0    0    0    0    0\n",
      "    0    0    0    0    0    0    0    0    0    0    0    0 3766  486\n",
      "   49  977 1834  688   46  330  132 1364]\n"
     ]
    }
   ],
   "source": [
    "print(sentences.values[25])\n",
    "print(x[25])"
   ]
  },
  {
   "cell_type": "code",
   "execution_count": 49,
   "id": "0cc1de35-78c2-48b1-a600-c16088e5861a",
   "metadata": {},
   "outputs": [],
   "source": [
    "polarity_encode = {'negative' : 0, 'neutral': 1, 'positive': 2}\n",
    "y = reviews['polarity'].map(polarity_encode).values"
   ]
  },
  {
   "cell_type": "code",
   "execution_count": 50,
   "id": "daab2a14-8fc8-41d9-8a39-4601fd4c91b6",
   "metadata": {},
   "outputs": [],
   "source": [
    "from sklearn.model_selection import train_test_split\n",
    "x_train, y_train, x_test, y_test = train_test_split(x, y, random_state=0)"
   ]
  },
  {
   "cell_type": "code",
   "execution_count": 52,
   "id": "98dcb702-0500-4e23-be55-d650c87eb1fc",
   "metadata": {},
   "outputs": [
    {
     "name": "stdout",
     "output_type": "stream",
     "text": [
      "1496 395931 1844\n"
     ]
    }
   ],
   "source": [
    "import numpy as np\n",
    "\n",
    "pos_count = np.count_nonzero(y_train==2)\n",
    "neg_count = np.count_nonzero(y_train==0)\n",
    "neu_count = np.count_nonzero(y_train==1)\n",
    "print(pos_count, neg_count, neu_count)\n"
   ]
  },
  {
   "cell_type": "code",
   "execution_count": 57,
   "id": "7e2e395e-2087-42b2-a8de-8bfae89c0b68",
   "metadata": {},
   "outputs": [
    {
     "name": "stdout",
     "output_type": "stream",
     "text": [
      "0.33614527110363507 72.17480115690529 88.9641265597148\n"
     ]
    }
   ],
   "source": [
    "total_3 = (pos_count+ neg_count+ neu_count)/3\n",
    "weight_0 = total_3 / neg_count\n",
    "weight_1 = total_3 / neu_count\n",
    "weight_2 = total_3 / pos_count\n",
    "\n",
    "print(weight_0, weight_1, weight_2)\n",
    "class_weight = {0: weight_0, 1: weight_1, 2:weight_2}"
   ]
  },
  {
   "cell_type": "code",
   "execution_count": 58,
   "id": "4890a5c5-2d1b-4ab2-b0cf-2f7feca8269c",
   "metadata": {},
   "outputs": [],
   "source": [
    "from keras.models import Sequential\n",
    "from keras.layers import Input, Embedding, Dense, LSTM\n",
    "from keras.optimizers import Adam\n",
    "\n",
    "embed_dim = 32\n",
    "hidden_unit = 16\n",
    "dropout_rate = 0.2\n",
    "learning_rate = 0.001\n",
    "\n",
    "model = Sequential()\n",
    "model.add(Input(shape=(sequence_max, )))\n",
    "model.add(Embedding(input_dim = max_words, output_dim = embed_dim, input_length = sequence_max))\n",
    "model.add(LSTM(units= hidden_unit, dropout = dropout_rate))\n",
    "model.add(Dense(units= 3, activation= 'softmax'))"
   ]
  },
  {
   "cell_type": "code",
   "execution_count": 59,
   "id": "15d41223-c38a-4648-9cfe-93ccb43facbb",
   "metadata": {},
   "outputs": [],
   "source": [
    "model.compile(loss='sparse_categorical_crossentropy', optimizer = Adam(learning_rate=learning_rate), \n",
    "              metrics= ['accuracy'])"
   ]
  },
  {
   "cell_type": "code",
   "execution_count": 60,
   "id": "9b647d85-0142-4d9e-a6cb-5ca85d050b41",
   "metadata": {},
   "outputs": [
    {
     "ename": "ValueError",
     "evalue": "Data cardinality is ambiguous. Make sure all arrays contain the same number of samples.'x' sizes: 27722\n'y' sizes: 9241\n'sample_weight' sizes: 9241\n",
     "output_type": "error",
     "traceback": [
      "\u001b[1;31m---------------------------------------------------------------------------\u001b[0m",
      "\u001b[1;31mValueError\u001b[0m                                Traceback (most recent call last)",
      "Cell \u001b[1;32mIn[60], line 4\u001b[0m\n\u001b[0;32m      1\u001b[0m epochs \u001b[38;5;241m=\u001b[39m \u001b[38;5;241m10\u001b[39m\n\u001b[0;32m      2\u001b[0m batch_size \u001b[38;5;241m=\u001b[39m \u001b[38;5;241m128\u001b[39m\n\u001b[1;32m----> 4\u001b[0m history \u001b[38;5;241m=\u001b[39m model\u001b[38;5;241m.\u001b[39mfit(x_train, y_train, class_weight\u001b[38;5;241m=\u001b[39mclass_weight, epochs\u001b[38;5;241m=\u001b[39mepochs, \n\u001b[0;32m      5\u001b[0m                     batch_size\u001b[38;5;241m=\u001b[39mbatch_size, validation_data\u001b[38;5;241m=\u001b[39m(x_test, y_test))\n",
      "File \u001b[1;32m~\\anaconda3\\Lib\\site-packages\\keras\\src\\utils\\traceback_utils.py:122\u001b[0m, in \u001b[0;36mfilter_traceback.<locals>.error_handler\u001b[1;34m(*args, **kwargs)\u001b[0m\n\u001b[0;32m    119\u001b[0m     filtered_tb \u001b[38;5;241m=\u001b[39m _process_traceback_frames(e\u001b[38;5;241m.\u001b[39m__traceback__)\n\u001b[0;32m    120\u001b[0m     \u001b[38;5;66;03m# To get the full stack trace, call:\u001b[39;00m\n\u001b[0;32m    121\u001b[0m     \u001b[38;5;66;03m# `keras.config.disable_traceback_filtering()`\u001b[39;00m\n\u001b[1;32m--> 122\u001b[0m     \u001b[38;5;28;01mraise\u001b[39;00m e\u001b[38;5;241m.\u001b[39mwith_traceback(filtered_tb) \u001b[38;5;28;01mfrom\u001b[39;00m \u001b[38;5;28;01mNone\u001b[39;00m\n\u001b[0;32m    123\u001b[0m \u001b[38;5;28;01mfinally\u001b[39;00m:\n\u001b[0;32m    124\u001b[0m     \u001b[38;5;28;01mdel\u001b[39;00m filtered_tb\n",
      "File \u001b[1;32m~\\anaconda3\\Lib\\site-packages\\keras\\src\\trainers\\data_adapters\\data_adapter_utils.py:115\u001b[0m, in \u001b[0;36mcheck_data_cardinality\u001b[1;34m(data)\u001b[0m\n\u001b[0;32m    111\u001b[0m     sizes \u001b[38;5;241m=\u001b[39m \u001b[38;5;124m\"\u001b[39m\u001b[38;5;124m, \u001b[39m\u001b[38;5;124m\"\u001b[39m\u001b[38;5;241m.\u001b[39mjoin(\n\u001b[0;32m    112\u001b[0m         \u001b[38;5;28mstr\u001b[39m(i\u001b[38;5;241m.\u001b[39mshape[\u001b[38;5;241m0\u001b[39m]) \u001b[38;5;28;01mfor\u001b[39;00m i \u001b[38;5;129;01min\u001b[39;00m tree\u001b[38;5;241m.\u001b[39mflatten(single_data)\n\u001b[0;32m    113\u001b[0m     )\n\u001b[0;32m    114\u001b[0m     msg \u001b[38;5;241m+\u001b[39m\u001b[38;5;241m=\u001b[39m \u001b[38;5;124mf\u001b[39m\u001b[38;5;124m\"\u001b[39m\u001b[38;5;124m'\u001b[39m\u001b[38;5;132;01m{\u001b[39;00mlabel\u001b[38;5;132;01m}\u001b[39;00m\u001b[38;5;124m'\u001b[39m\u001b[38;5;124m sizes: \u001b[39m\u001b[38;5;132;01m{\u001b[39;00msizes\u001b[38;5;132;01m}\u001b[39;00m\u001b[38;5;130;01m\\n\u001b[39;00m\u001b[38;5;124m\"\u001b[39m\n\u001b[1;32m--> 115\u001b[0m \u001b[38;5;28;01mraise\u001b[39;00m \u001b[38;5;167;01mValueError\u001b[39;00m(msg)\n",
      "\u001b[1;31mValueError\u001b[0m: Data cardinality is ambiguous. Make sure all arrays contain the same number of samples.'x' sizes: 27722\n'y' sizes: 9241\n'sample_weight' sizes: 9241\n"
     ]
    }
   ],
   "source": [
    "epochs = 10\n",
    "batch_size = 128\n",
    "\n",
    "history = model.fit(x_train, y_train, class_weight=class_weight, epochs=epochs, \n",
    "                    batch_size=batch_size, validation_data=(x_test, y_test))"
   ]
  },
  {
   "cell_type": "code",
   "execution_count": 61,
   "id": "468c6f8f-3dd7-4501-b318-53a0fe225555",
   "metadata": {},
   "outputs": [
    {
     "name": "stdout",
     "output_type": "stream",
     "text": [
      "36963 36963\n"
     ]
    }
   ],
   "source": [
    "print(len(x), len(y))  # Should print the same number"
   ]
  },
  {
   "cell_type": "code",
   "execution_count": 62,
   "id": "448041a7-dc44-448b-ae15-cd088534c99c",
   "metadata": {},
   "outputs": [
    {
     "name": "stdout",
     "output_type": "stream",
     "text": [
      "27722 9241\n",
      "27722 9241\n"
     ]
    }
   ],
   "source": [
    "print(len(x_train), len(y_train))  # Should be equal\n",
    "print(len(x_test), len(y_test))    # Should be equal"
   ]
  },
  {
   "cell_type": "code",
   "execution_count": 66,
   "id": "6f0d04cd-a099-480f-a25f-e8d2e4a3abb7",
   "metadata": {},
   "outputs": [],
   "source": [
    "x = x[:len(y)]"
   ]
  },
  {
   "cell_type": "code",
   "execution_count": 67,
   "id": "603b3a7c-8e30-480d-8eb9-83680d4bf84a",
   "metadata": {},
   "outputs": [],
   "source": [
    "from sklearn.model_selection import train_test_split\n",
    "x_train, y_train, x_test, y_test = train_test_split(x, y, random_state=0)"
   ]
  },
  {
   "cell_type": "code",
   "execution_count": 68,
   "id": "23e7c974-c416-4397-960f-99847979c3d0",
   "metadata": {},
   "outputs": [
    {
     "name": "stdout",
     "output_type": "stream",
     "text": [
      "27722 9241\n",
      "27722 9241\n"
     ]
    }
   ],
   "source": [
    "#alueError: Data cardinality is ambiguous. Make sure all arrays contain the same number of samples.'x' sizes: 27722'y' sizes: 9241'sample_weight' sizes: 9241\n",
    "\n",
    "print(len(x_train), len(y_train))  # Should be equal\n",
    "print(len(x_test), len(y_test))    # Should be equal"
   ]
  },
  {
   "cell_type": "code",
   "execution_count": 69,
   "id": "a71417a9-eb3b-45e1-a2ed-a94b26631378",
   "metadata": {},
   "outputs": [],
   "source": [
    "##Reset Data and Re-Split\n",
    "x = x[:min(len(x), len(y))]\n",
    "y = y[:min(len(x), len(y))]"
   ]
  },
  {
   "cell_type": "code",
   "execution_count": 70,
   "id": "a84eec57-6cf9-4234-9082-325efd5b09ee",
   "metadata": {},
   "outputs": [],
   "source": [
    "x_train, x_test, y_train, y_test = train_test_split(x, y, test_size=0.2, random_state=42)"
   ]
  },
  {
   "cell_type": "code",
   "execution_count": 71,
   "id": "8208be38-6ad4-4596-afac-5a949ea8dc81",
   "metadata": {},
   "outputs": [
    {
     "name": "stdout",
     "output_type": "stream",
     "text": [
      "29570 29570\n",
      "7393 7393\n"
     ]
    }
   ],
   "source": [
    "print(len(x_train), len(y_train))  # Should be equal\n",
    "print(len(x_test), len(y_test)) "
   ]
  },
  {
   "cell_type": "code",
   "execution_count": 72,
   "id": "9619c378-ab87-4b03-98ef-81550cd7bb3e",
   "metadata": {},
   "outputs": [
    {
     "name": "stdout",
     "output_type": "stream",
     "text": [
      "Epoch 1/10\n",
      "\u001b[1m232/232\u001b[0m \u001b[32m━━━━━━━━━━━━━━━━━━━━\u001b[0m\u001b[37m\u001b[0m \u001b[1m8s\u001b[0m 21ms/step - accuracy: 0.5260 - loss: 40.1027 - val_accuracy: 0.6955 - val_loss: 1.3325\n",
      "Epoch 2/10\n",
      "\u001b[1m232/232\u001b[0m \u001b[32m━━━━━━━━━━━━━━━━━━━━\u001b[0m\u001b[37m\u001b[0m \u001b[1m3s\u001b[0m 14ms/step - accuracy: 0.7100 - loss: 13.7872 - val_accuracy: 0.7146 - val_loss: 1.3142\n",
      "Epoch 3/10\n",
      "\u001b[1m232/232\u001b[0m \u001b[32m━━━━━━━━━━━━━━━━━━━━\u001b[0m\u001b[37m\u001b[0m \u001b[1m4s\u001b[0m 16ms/step - accuracy: 0.7374 - loss: 8.4215 - val_accuracy: 0.7154 - val_loss: 1.3399\n",
      "Epoch 4/10\n",
      "\u001b[1m232/232\u001b[0m \u001b[32m━━━━━━━━━━━━━━━━━━━━\u001b[0m\u001b[37m\u001b[0m \u001b[1m3s\u001b[0m 15ms/step - accuracy: 0.7447 - loss: 5.7842 - val_accuracy: 0.7162 - val_loss: 1.3850\n",
      "Epoch 5/10\n",
      "\u001b[1m232/232\u001b[0m \u001b[32m━━━━━━━━━━━━━━━━━━━━\u001b[0m\u001b[37m\u001b[0m \u001b[1m4s\u001b[0m 15ms/step - accuracy: 0.7532 - loss: 4.5597 - val_accuracy: 0.7196 - val_loss: 1.4268\n",
      "Epoch 6/10\n",
      "\u001b[1m232/232\u001b[0m \u001b[32m━━━━━━━━━━━━━━━━━━━━\u001b[0m\u001b[37m\u001b[0m \u001b[1m4s\u001b[0m 15ms/step - accuracy: 0.7511 - loss: 3.7128 - val_accuracy: 0.7176 - val_loss: 1.3844\n",
      "Epoch 7/10\n",
      "\u001b[1m232/232\u001b[0m \u001b[32m━━━━━━━━━━━━━━━━━━━━\u001b[0m\u001b[37m\u001b[0m \u001b[1m3s\u001b[0m 14ms/step - accuracy: 0.7581 - loss: 2.8579 - val_accuracy: 0.7191 - val_loss: 1.4055\n",
      "Epoch 8/10\n",
      "\u001b[1m232/232\u001b[0m \u001b[32m━━━━━━━━━━━━━━━━━━━━\u001b[0m\u001b[37m\u001b[0m \u001b[1m4s\u001b[0m 17ms/step - accuracy: 0.7659 - loss: 2.4137 - val_accuracy: 0.7214 - val_loss: 1.3830\n",
      "Epoch 9/10\n",
      "\u001b[1m232/232\u001b[0m \u001b[32m━━━━━━━━━━━━━━━━━━━━\u001b[0m\u001b[37m\u001b[0m \u001b[1m3s\u001b[0m 14ms/step - accuracy: 0.7632 - loss: 1.9684 - val_accuracy: 0.7139 - val_loss: 1.4375\n",
      "Epoch 10/10\n",
      "\u001b[1m232/232\u001b[0m \u001b[32m━━━━━━━━━━━━━━━━━━━━\u001b[0m\u001b[37m\u001b[0m \u001b[1m3s\u001b[0m 14ms/step - accuracy: 0.7654 - loss: 1.9690 - val_accuracy: 0.7189 - val_loss: 1.3722\n"
     ]
    }
   ],
   "source": [
    "epochs = 10\n",
    "batch_size = 128\n",
    "\n",
    "history = model.fit(x_train, y_train, class_weight=class_weight, epochs=epochs, \n",
    "                    batch_size=batch_size, validation_data=(x_test, y_test))"
   ]
  },
  {
   "cell_type": "code",
   "execution_count": 73,
   "id": "4ac05aa5-cbeb-4b33-88a1-85505a4a7e9f",
   "metadata": {},
   "outputs": [
    {
     "name": "stdout",
     "output_type": "stream",
     "text": [
      "Train Accuracy: 0.7629016041755676\n",
      "Validation Accuracy: 0.7189233303070068\n"
     ]
    }
   ],
   "source": [
    "train_accuracy = history.history['accuracy']\n",
    "val_accuracy = history.history['val_accuracy']\n",
    "\n",
    "print(\"Train Accuracy:\", train_accuracy[-1])\n",
    "print(\"Validation Accuracy:\", val_accuracy[-1])"
   ]
  },
  {
   "cell_type": "code",
   "execution_count": 74,
   "id": "654b1eb2-424a-4e5a-8b54-5e2cb0de0a54",
   "metadata": {},
   "outputs": [],
   "source": [
    "def create_model(embed_dim=32, hidden_unit = 16, dropout_rate = 0.2, learning_rate = 0.001):\n",
    "\n",
    "    model = Sequential()\n",
    "    model.add(Embedding(input_dim = max_words, output_dim = embed_dim, input_length = sequence_max))\n",
    "    model.add(LSTM(units= hidden_unit, dropout = dropout_rate))\n",
    "    model.add(Dense(units= 3, activation= 'softmax'))\n",
    "    model.compile(loss='sparse_categorical_crossentropy', optimizer = Adam(learning_rate=learning_rate), \n",
    "              metrics= ['accuracy'])\n",
    "    return model"
   ]
  },
  {
   "cell_type": "code",
   "execution_count": 75,
   "id": "aa4db39f-8a82-48a3-89e5-cf7ed287497c",
   "metadata": {},
   "outputs": [
    {
     "name": "stdout",
     "output_type": "stream",
     "text": [
      "Collecting scikeras\n",
      "  Downloading scikeras-0.13.0-py3-none-any.whl.metadata (3.1 kB)\n",
      "Requirement already satisfied: keras>=3.2.0 in c:\\users\\user\\anaconda3\\lib\\site-packages (from scikeras) (3.8.0)\n",
      "Requirement already satisfied: scikit-learn>=1.4.2 in c:\\users\\user\\anaconda3\\lib\\site-packages (from scikeras) (1.5.1)\n",
      "Requirement already satisfied: absl-py in c:\\users\\user\\anaconda3\\lib\\site-packages (from keras>=3.2.0->scikeras) (2.1.0)\n",
      "Requirement already satisfied: numpy in c:\\users\\user\\anaconda3\\lib\\site-packages (from keras>=3.2.0->scikeras) (1.26.4)\n",
      "Requirement already satisfied: rich in c:\\users\\user\\anaconda3\\lib\\site-packages (from keras>=3.2.0->scikeras) (13.7.1)\n",
      "Requirement already satisfied: namex in c:\\users\\user\\anaconda3\\lib\\site-packages (from keras>=3.2.0->scikeras) (0.0.8)\n",
      "Requirement already satisfied: h5py in c:\\users\\user\\anaconda3\\lib\\site-packages (from keras>=3.2.0->scikeras) (3.11.0)\n",
      "Requirement already satisfied: optree in c:\\users\\user\\anaconda3\\lib\\site-packages (from keras>=3.2.0->scikeras) (0.14.0)\n",
      "Requirement already satisfied: ml-dtypes in c:\\users\\user\\anaconda3\\lib\\site-packages (from keras>=3.2.0->scikeras) (0.4.1)\n",
      "Requirement already satisfied: packaging in c:\\users\\user\\anaconda3\\lib\\site-packages (from keras>=3.2.0->scikeras) (24.1)\n",
      "Requirement already satisfied: scipy>=1.6.0 in c:\\users\\user\\anaconda3\\lib\\site-packages (from scikit-learn>=1.4.2->scikeras) (1.13.1)\n",
      "Requirement already satisfied: joblib>=1.2.0 in c:\\users\\user\\anaconda3\\lib\\site-packages (from scikit-learn>=1.4.2->scikeras) (1.4.2)\n",
      "Requirement already satisfied: threadpoolctl>=3.1.0 in c:\\users\\user\\anaconda3\\lib\\site-packages (from scikit-learn>=1.4.2->scikeras) (3.5.0)\n",
      "Requirement already satisfied: typing-extensions>=4.5.0 in c:\\users\\user\\anaconda3\\lib\\site-packages (from optree->keras>=3.2.0->scikeras) (4.11.0)\n",
      "Requirement already satisfied: markdown-it-py>=2.2.0 in c:\\users\\user\\anaconda3\\lib\\site-packages (from rich->keras>=3.2.0->scikeras) (2.2.0)\n",
      "Requirement already satisfied: pygments<3.0.0,>=2.13.0 in c:\\users\\user\\anaconda3\\lib\\site-packages (from rich->keras>=3.2.0->scikeras) (2.15.1)\n",
      "Requirement already satisfied: mdurl~=0.1 in c:\\users\\user\\anaconda3\\lib\\site-packages (from markdown-it-py>=2.2.0->rich->keras>=3.2.0->scikeras) (0.1.0)\n",
      "Downloading scikeras-0.13.0-py3-none-any.whl (26 kB)\n",
      "Installing collected packages: scikeras\n",
      "Successfully installed scikeras-0.13.0\n"
     ]
    }
   ],
   "source": [
    "!pip install scikeras"
   ]
  },
  {
   "cell_type": "code",
   "execution_count": 76,
   "id": "01d56cb5-569d-4200-ad2d-107f162d094b",
   "metadata": {},
   "outputs": [],
   "source": [
    "from scikeras.wrappers import KerasClassifier\n",
    "model_keras = KerasClassifier(model = create_model, epochs=25, batch_size=128)"
   ]
  },
  {
   "cell_type": "code",
   "execution_count": 78,
   "id": "a93cca49-8fa2-4304-bba8-b0c1de413063",
   "metadata": {},
   "outputs": [],
   "source": [
    "param_grid ={\n",
    "    'model_embed_dim': [32, 64],\n",
    "    'model_hidden_unit': [16, 32, 64],\n",
    "    'model_dropout_rate': [0.2, 0.5],\n",
    "    'model_learning_rate': [0.01, 0.001, 0.0001]\n",
    "}"
   ]
  },
  {
   "cell_type": "code",
   "execution_count": 83,
   "id": "51fa2d3a-228b-43ca-a8be-5d4d05c15619",
   "metadata": {},
   "outputs": [],
   "source": [
    "# from sklearn.model_selection import GridSearchCV\n",
    "\n",
    "# grid = GridSearchCV(estimator = model_keras, param_grid = param_grid, cv = 5)\n",
    "# grid_result = grid.fit(x_train, y_train)\n",
    "\n",
    "# results_df = pd.DataFrame(grid_result.cv_results_)\n",
    "\n",
    "# results_df.to_csv('grid_search_results.csv', index=False)\n",
    "\n",
    "# print(\"Best parameters: \", grid_result.best_params_)\n",
    "\n",
    "# print(\"Best accuracy: \", grid_result.best_score_)"
   ]
  },
  {
   "cell_type": "code",
   "execution_count": 84,
   "id": "8992c286-0976-4f47-abc0-73ac01fb25a2",
   "metadata": {},
   "outputs": [
    {
     "name": "stderr",
     "output_type": "stream",
     "text": [
      "C:\\Users\\user\\anaconda3\\Lib\\site-packages\\keras\\src\\layers\\core\\embedding.py:90: UserWarning: Argument `input_length` is deprecated. Just remove it.\n",
      "  warnings.warn(\n"
     ]
    },
    {
     "name": "stdout",
     "output_type": "stream",
     "text": [
      "Epoch 1/10\n",
      "\u001b[1m232/232\u001b[0m \u001b[32m━━━━━━━━━━━━━━━━━━━━\u001b[0m\u001b[37m\u001b[0m \u001b[1m10s\u001b[0m 30ms/step - accuracy: 0.5823 - loss: 34.2705 - val_accuracy: 0.6992 - val_loss: 1.5104\n",
      "Epoch 2/10\n",
      "\u001b[1m232/232\u001b[0m \u001b[32m━━━━━━━━━━━━━━━━━━━━\u001b[0m\u001b[37m\u001b[0m \u001b[1m7s\u001b[0m 31ms/step - accuracy: 0.7159 - loss: 11.2953 - val_accuracy: 0.7164 - val_loss: 1.4370\n",
      "Epoch 3/10\n",
      "\u001b[1m232/232\u001b[0m \u001b[32m━━━━━━━━━━━━━━━━━━━━\u001b[0m\u001b[37m\u001b[0m \u001b[1m8s\u001b[0m 35ms/step - accuracy: 0.7384 - loss: 7.6214 - val_accuracy: 0.7109 - val_loss: 1.3844\n",
      "Epoch 4/10\n",
      "\u001b[1m232/232\u001b[0m \u001b[32m━━━━━━━━━━━━━━━━━━━━\u001b[0m\u001b[37m\u001b[0m \u001b[1m7s\u001b[0m 31ms/step - accuracy: 0.7431 - loss: 6.0786 - val_accuracy: 0.7170 - val_loss: 1.3379\n",
      "Epoch 5/10\n",
      "\u001b[1m232/232\u001b[0m \u001b[32m━━━━━━━━━━━━━━━━━━━━\u001b[0m\u001b[37m\u001b[0m \u001b[1m7s\u001b[0m 28ms/step - accuracy: 0.7559 - loss: 4.1788 - val_accuracy: 0.7180 - val_loss: 1.2800\n",
      "Epoch 6/10\n",
      "\u001b[1m232/232\u001b[0m \u001b[32m━━━━━━━━━━━━━━━━━━━━\u001b[0m\u001b[37m\u001b[0m \u001b[1m7s\u001b[0m 30ms/step - accuracy: 0.7609 - loss: 2.9379 - val_accuracy: 0.7200 - val_loss: 1.2578\n",
      "Epoch 7/10\n",
      "\u001b[1m232/232\u001b[0m \u001b[32m━━━━━━━━━━━━━━━━━━━━\u001b[0m\u001b[37m\u001b[0m \u001b[1m10s\u001b[0m 45ms/step - accuracy: 0.7641 - loss: 2.3081 - val_accuracy: 0.7195 - val_loss: 1.1461\n",
      "Epoch 8/10\n",
      "\u001b[1m232/232\u001b[0m \u001b[32m━━━━━━━━━━━━━━━━━━━━\u001b[0m\u001b[37m\u001b[0m \u001b[1m8s\u001b[0m 34ms/step - accuracy: 0.7622 - loss: 2.1880 - val_accuracy: 0.7189 - val_loss: 1.0890\n",
      "Epoch 9/10\n",
      "\u001b[1m232/232\u001b[0m \u001b[32m━━━━━━━━━━━━━━━━━━━━\u001b[0m\u001b[37m\u001b[0m \u001b[1m7s\u001b[0m 30ms/step - accuracy: 0.7632 - loss: 1.8465 - val_accuracy: 0.7205 - val_loss: 1.2480\n",
      "Epoch 10/10\n",
      "\u001b[1m232/232\u001b[0m \u001b[32m━━━━━━━━━━━━━━━━━━━━\u001b[0m\u001b[37m\u001b[0m \u001b[1m8s\u001b[0m 35ms/step - accuracy: 0.7636 - loss: 1.6338 - val_accuracy: 0.7207 - val_loss: 1.0368\n"
     ]
    }
   ],
   "source": [
    "model = create_model(embed_dim=64, hidden_unit = 64, dropout_rate = 0.2, learning_rate = 0.001)\n",
    "\n",
    "history = model.fit(x_train, y_train, class_weight=class_weight, epochs=epochs, \n",
    "                    batch_size=batch_size, validation_data=(x_test, y_test))"
   ]
  },
  {
   "cell_type": "code",
   "execution_count": 85,
   "id": "c609ec33-36e2-4af6-8979-c94487c50ed5",
   "metadata": {},
   "outputs": [
    {
     "name": "stdout",
     "output_type": "stream",
     "text": [
      "Train Accuracy: 0.7643895745277405\n",
      "Validation Accuracy: 0.7206817269325256\n"
     ]
    }
   ],
   "source": [
    "train_accuracy = history.history['accuracy']\n",
    "val_accuracy = history.history['val_accuracy']\n",
    "\n",
    "print(\"Train Accuracy:\", train_accuracy[-1])\n",
    "print(\"Validation Accuracy:\", val_accuracy[-1])"
   ]
  },
  {
   "cell_type": "code",
   "execution_count": 88,
   "id": "8c56fd50-d871-4a45-bcaa-5e675187b343",
   "metadata": {},
   "outputs": [
    {
     "data": {
      "image/png": "[encoded data removed]",
      "text/plain": [
       "<Figure size 1000x500 with 1 Axes>"
      ]
     },
     "metadata": {},
     "output_type": "display_data"
    }
   ],
   "source": [
    "fig, ax = plt.subplots(figsize = (10, 5))\n",
    "ax.plot(history.history['accuracy'], label = 'train accutracy')\n",
    "ax.plot(history.history['val_accuracy'], label = 'val accutracy')\n",
    "ax.set_title('Model Accuracy')\n",
    "ax.set_xlabel('Epoch')\n",
    "ax.set_ylabel('Accuracy')\n",
    "ax.legend(loc= 'lower right')\n",
    "plt.show()"
   ]
  },
  {
   "cell_type": "code",
   "execution_count": 89,
   "id": "8c816b2a-8c98-425e-bf90-632af5f4617c",
   "metadata": {},
   "outputs": [],
   "source": [
    "model.save('Analyze_reviews_model.keras')"
   ]
  },
  {
   "cell_type": "code",
   "execution_count": 90,
   "id": "de213b75-9580-404b-bbfc-b366c2500c0d",
   "metadata": {},
   "outputs": [],
   "source": [
    "import pickle\n",
    "\n",
    "tokenizer_path = 'reviews_tokenizer'\n",
    "with open(tokenizer_path, 'wb') as file:\n",
    "    pickle.dump(tokenizer, file)"
   ]
  },
  {
   "cell_type": "code",
   "execution_count": 99,
   "id": "da429b05-4fd8-492a-ad90-ba1bffea4ca4",
   "metadata": {},
   "outputs": [],
   "source": [
    "from keras.models import load_model\n",
    "import pickle\n",
    "\n",
    "def classify_reviews(reviews, model_path, tkenizer_path, sequence_max):\n",
    "    processed_reviews = []\n",
    "    for x in reviews:\n",
    "        y = text_preprocessing(x)\n",
    "        y= toSentence(y)\n",
    "        processed_reviews.append(y)\n",
    "\n",
    "    model = load_model(model_path)\n",
    "    with open(tokenizer_path, 'rb') as file:\n",
    "       tokenizer = pickle.load(file)\n",
    "\n",
    "    txt_to_seq = tokenizer.texts_to_sequences(processed_reviews)\n",
    "    txt_pad = pad_sequences(txt_to_seq, maxlen= sequence_max)\n",
    "\n",
    "    predictions = model.predict(txt_pad)\n",
    "\n",
    "    sentiments = []\n",
    "    for pred in predictions:\n",
    "        max = np.argmax(pred, axis=0)\n",
    "        if max == 0:\n",
    "           sentiments.append('negative')\n",
    "        elif max == 1:\n",
    "           sentiments.append('neutral')\n",
    "        else:\n",
    "           sentiments.append('positive')\n",
    "    return sentiments"
   ]
  },
  {
   "cell_type": "code",
   "execution_count": 100,
   "id": "6ab582c7-8daa-474c-8a74-eea091fe165b",
   "metadata": {},
   "outputs": [],
   "source": [
    "test = ['تطبيق فاشل', 'تجربه ناجحه معه طلبات احسنتم', 'عذرا أيش الفائدة معظم المواقع يتعذر التوصيل لها ، خاصاً محلات البقالة قليله في البرنامج، المطاعم موجوده بكثرة ،.. خدمه ممتازه لكن يحتاج لها التطوير']"
   ]
  },
  {
   "cell_type": "code",
   "execution_count": 101,
   "id": "3146ebbc-e7bc-4541-8984-506a71db15a9",
   "metadata": {},
   "outputs": [
    {
     "name": "stdout",
     "output_type": "stream",
     "text": [
      "\u001b[1m1/1\u001b[0m \u001b[32m━━━━━━━━━━━━━━━━━━━━\u001b[0m\u001b[37m\u001b[0m \u001b[1m1s\u001b[0m 579ms/step\n",
      "Sentence: تطبيق فاشل - Sentiment: neutral\n",
      "Sentence: تجربه ناجحه معه طلبات احسنتم - Sentiment: neutral\n",
      "Sentence: عذرا أيش الفائدة معظم المواقع يتعذر التوصيل لها ، خاصاً محلات البقالة قليله في البرنامج، المطاعم موجوده بكثرة ،.. خدمه ممتازه لكن يحتاج لها التطوير - Sentiment: neutral\n"
     ]
    }
   ],
   "source": [
    "predictions = classify_reviews(reviews, 'Analyze_reviews_model.keras', 'reviews_tokenizer', 50)\n",
    "for sentence, prediction in zip(test, predictions):\n",
    "    print(f'Sentence: {sentence} - Sentiment: {prediction}')"
   ]
  },
  {
   "cell_type": "code",
   "execution_count": null,
   "id": "5856dde5-1811-4f2c-8546-46e4a0a897d6",
   "metadata": {},
   "outputs": [],
   "source": []
  }
 ],
 "metadata": {
  "kernelspec": {
   "display_name": "Python 3 (ipykernel)",
   "language": "python",
   "name": "python3"
  },
  "language_info": {
   "codemirror_mode": {
    "name": "ipython",
    "version": 3
   },
   "file_extension": ".py",
   "mimetype": "text/x-python",
   "name": "python",
   "nbconvert_exporter": "python",
   "pygments_lexer": "ipython3",
   "version": "3.12.7"
  }
 },
 "nbformat": 4,
 "nbformat_minor": 5
}
